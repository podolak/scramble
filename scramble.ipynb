{
 "cells": [
  {
   "cell_type": "code",
   "execution_count": 9,
   "metadata": {},
   "outputs": [],
   "source": [
    "from itertools import permutations\n",
    "import random"
   ]
  },
  {
   "cell_type": "code",
   "execution_count": 25,
   "metadata": {},
   "outputs": [],
   "source": [
    "def mid_random(word):\n",
    "    if len(word) < 4:\n",
    "        return word\n",
    "    perms = [''.join(x) for x in permutations(word[1:-1])]\n",
    "    return word[0]+random.choice(perms[1:])+word[-1]\n",
    "\n",
    "def mids(sent):\n",
    "    words = sent.split(\" \")\n",
    "    return \" \".join([mid_random(word) for word in words])"
   ]
  },
  {
   "cell_type": "code",
   "execution_count": 27,
   "metadata": {},
   "outputs": [
    {
     "data": {
      "text/plain": [
       "'ויכשם אהרבם בקבר ויבחש את חרמו וקיח את שני נירעו אתו ואת יחצק בנו וקיבע עצי עלה'"
      ]
     },
     "execution_count": 27,
     "metadata": {},
     "output_type": "execute_result"
    }
   ],
   "source": [
    "mids(\"וישכם אברהם בבקר ויחבש את חמרו ויקח את שני נעריו אתו ואת יצחק בנו ויבקע עצי עלה\")"
   ]
  },
  {
   "cell_type": "code",
   "execution_count": 29,
   "metadata": {},
   "outputs": [
    {
     "data": {
      "text/plain": [
       "'    ואהרץ התיה תהו והבו ושחך על פני תוהם וורח אהילם מחרפת על פני הימם'"
      ]
     },
     "execution_count": 29,
     "metadata": {},
     "output_type": "execute_result"
    }
   ],
   "source": [
    "mids(\"והארץ היתה תהו ובהו וחשך על פני תהום ורוח אלהים מרחפת על פני המים\")"
   ]
  },
  {
   "cell_type": "code",
   "execution_count": 30,
   "metadata": {},
   "outputs": [
    {
     "data": {
      "text/plain": [
       "'   ותצנתם את מחזתבם ותרשבם את מבתצם ואיהרשם תשופרן באש וסליפי אהליהם תעודגן ואתבדם את שמם מן הומקם הוהא'"
      ]
     },
     "execution_count": 30,
     "metadata": {},
     "output_type": "execute_result"
    }
   ],
   "source": [
    "mids(\"ונתצתם את מזבחתם ושברתם את מצבתם ואשריהם תשרפון באש ופסילי אלהיהם תגדעון ואבדתם את שמם מן המקום ההוא\")"
   ]
  },
  {
   "cell_type": "code",
   "execution_count": 32,
   "metadata": {},
   "outputs": [
    {
     "data": {
      "text/plain": [
       "'    לא תכול לכאל בעשירך משער דנגך וירתשך וצרהיך וכברת ברקך ואנצך וכל נרידך אשר תדר ונדתביך וומרתת ידך'"
      ]
     },
     "execution_count": 32,
     "metadata": {},
     "output_type": "execute_result"
    }
   ],
   "source": [
    "mids(\"    לא תוכל לאכל בשעריך מעשר דגנך ותירשך ויצהרך ובכרת בקרך וצאנך וכל נדריך אשר תדר ונדבתיך ותרומת ידך\")"
   ]
  },
  {
   "cell_type": "code",
   "execution_count": 33,
   "metadata": {},
   "outputs": [
    {
     "data": {
      "text/plain": [
       "'   ותבאהם שמה עתכלים וביזכחם ואת מעתישרכם ואת תומרת יכדם ורכנדים ובדתנכים וברכת בכרקם ואכצנם'"
      ]
     },
     "execution_count": 33,
     "metadata": {},
     "output_type": "execute_result"
    }
   ],
   "source": [
    "mids(\"   והבאתם שמה עלתיכם וזבחיכם ואת מעשרתיכם ואת תרומת ידכם ונדריכם ונדבתיכם ובכרת בקרכם וצאנכם\")"
   ]
  },
  {
   "cell_type": "code",
   "execution_count": null,
   "metadata": {},
   "outputs": [],
   "source": []
  }
 ],
 "metadata": {
  "kernelspec": {
   "display_name": "Python 3",
   "language": "python",
   "name": "python3"
  },
  "language_info": {
   "codemirror_mode": {
    "name": "ipython",
    "version": 3
   },
   "file_extension": ".py",
   "mimetype": "text/x-python",
   "name": "python",
   "nbconvert_exporter": "python",
   "pygments_lexer": "ipython3",
   "version": "3.7.4"
  }
 },
 "nbformat": 4,
 "nbformat_minor": 2
}
